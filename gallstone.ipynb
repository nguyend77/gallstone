{
  "nbformat": 4,
  "nbformat_minor": 0,
  "metadata": {
    "colab": {
      "provenance": []
    },
    "kernelspec": {
      "name": "python3",
      "display_name": "Python 3"
    },
    "language_info": {
      "name": "python"
    }
  },
  "cells": [
    {
      "cell_type": "markdown",
      "source": [
        "#A Machine Learning Approach for Gallstone Disease Prediction\n",
        "Dung Nguyen<br>\n",
        "Elmhurst University<br>\n",
        "dung.nguyen@365.elmhurst.edu<br>\n"
      ],
      "metadata": {
        "id": "1g3HZNZAfxtX"
      }
    },
    {
      "cell_type": "markdown",
      "source": [
        "##Libraries"
      ],
      "metadata": {
        "id": "bMKOio4bwnq1"
      }
    },
    {
      "cell_type": "code",
      "execution_count": 391,
      "metadata": {
        "id": "iW8kOJ5xecVR"
      },
      "outputs": [],
      "source": [
        "import pandas as pd\n",
        "import numpy as np\n",
        "from sklearn.feature_selection import f_classif\n",
        "from sklearn.metrics import classification_report, confusion_matrix, roc_auc_score\n",
        "from sklearn.preprocessing import StandardScaler\n",
        "from sklearn.model_selection import train_test_split\n",
        "from sklearn.pipeline import Pipeline\n",
        "from sklearn.linear_model import LogisticRegression\n",
        "from sklearn.svm import SVC\n",
        "from sklearn.neighbors import KNeighborsClassifier\n",
        "from sklearn.neural_network import MLPClassifier\n",
        "from sklearn.ensemble import RandomForestClassifier, GradientBoostingClassifier, AdaBoostClassifier, VotingClassifier\n",
        "from xgboost import XGBClassifier"
      ]
    },
    {
      "cell_type": "markdown",
      "source": [
        "##Data"
      ],
      "metadata": {
        "id": "vrku5VIfjs-i"
      }
    },
    {
      "cell_type": "code",
      "source": [
        "df = pd.read_csv('https://raw.githubusercontent.com/nguyend77/gallstone/refs/heads/main/data.csv')"
      ],
      "metadata": {
        "id": "VCQQcQcYjWok"
      },
      "execution_count": 366,
      "outputs": []
    },
    {
      "cell_type": "markdown",
      "source": [
        "Identify features (X) and target (y)"
      ],
      "metadata": {
        "id": "x6KcMji7Ifo1"
      }
    },
    {
      "cell_type": "code",
      "source": [
        "X = df.drop(columns=['gallstone', 'lean_mass', 'total_body_fat_ratio', 'bone_mass', 'extracellular_water', 'total_fat_content', 'ecf_tbw', 'visceral_fat_area', 'total_body_water', 'muscle_mass', 'hepatic_fat_accumulation', 'visceral_muscle_area', 'intracellular_water', 'visceral_fat_rating', 'obesity', 'protein'])\n",
        "y = df['gallstone']"
      ],
      "metadata": {
        "id": "IJ7d-rvXIgPK"
      },
      "execution_count": 367,
      "outputs": []
    },
    {
      "cell_type": "markdown",
      "source": [
        "ANOVA F-Scores"
      ],
      "metadata": {
        "id": "9JSlusDYHvUq"
      }
    },
    {
      "cell_type": "code",
      "source": [
        "f_scores, p_values = f_classif(X, y)\n",
        "feature_scores_df = pd.DataFrame({'Feature': X.columns, 'F_Score': f_scores, 'P_Value': p_values})\n",
        "feature_scores_df = feature_scores_df.sort_values(by='F_Score', ascending=False)\n",
        "print(feature_scores_df)"
      ],
      "metadata": {
        "colab": {
          "base_uri": "https://localhost:8080/"
        },
        "id": "unFc6pzPHw8T",
        "outputId": "b63b7ea1-191d-4a5c-b295-9268d2699f57"
      },
      "execution_count": 368,
      "outputs": [
        {
          "output_type": "stream",
          "name": "stdout",
          "text": [
            "                       Feature    F_Score       P_Value\n",
            "22                    vitaminD  45.673154  6.709802e-11\n",
            "20          c_reactive_protein  27.385949  3.037234e-07\n",
            "21                  hemoglobin  12.781941  4.045010e-04\n",
            "5               hyperlipidemia   8.532832  3.738263e-03\n",
            "13                         hdl   8.181862  4.511971e-03\n",
            "1                       gender   7.647763  6.017412e-03\n",
            "15                         ast   5.876601  1.590243e-02\n",
            "18                  creatinine   5.645945  1.808963e-02\n",
            "9                          bmi   4.750322  3.002851e-02\n",
            "17                         alp   3.874263  4.990295e-02\n",
            "7                       height   3.735465  5.415938e-02\n",
            "6                     diabetes   3.512774  6.181698e-02\n",
            "3      coronary_artery_disease   3.010879  8.367928e-02\n",
            "12                         ldl   1.014058  3.147007e-01\n",
            "4               hypothyroidism   0.968731  3.257475e-01\n",
            "14                triglyceride   0.821302  3.654882e-01\n",
            "8                       weight   0.752641  3.862977e-01\n",
            "2                  comorbidity   0.747912  3.877922e-01\n",
            "16                         alt   0.558492  4.554226e-01\n",
            "0                          age   0.419158  5.178263e-01\n",
            "19  glomerular_filtration_rate   0.253650  6.148661e-01\n",
            "11           total_cholesterol   0.063036  8.019233e-01\n",
            "10                     glucose   0.041914  8.379145e-01\n"
          ]
        }
      ]
    },
    {
      "cell_type": "markdown",
      "source": [
        "Train-Test Split"
      ],
      "metadata": {
        "id": "rgd7rSDYJtRS"
      }
    },
    {
      "cell_type": "code",
      "source": [
        "X_train, X_test, y_train, y_test = train_test_split(X, y, test_size=0.3, random_state=42, stratify=y)"
      ],
      "metadata": {
        "id": "qozg-FDRJvDF"
      },
      "execution_count": 395,
      "outputs": []
    },
    {
      "cell_type": "markdown",
      "source": [
        "Logistic Regression"
      ],
      "metadata": {
        "id": "a-Ohjccu_0M3"
      }
    },
    {
      "cell_type": "code",
      "source": [
        "lr_model = LogisticRegression(solver = 'liblinear', max_iter = 1000)\n",
        "lr_model.fit(X_train, y_train)\n",
        "y_pred_lr = lr_model.predict(X_test)\n",
        "print(classification_report(y_test, y_pred_lr))"
      ],
      "metadata": {
        "colab": {
          "base_uri": "https://localhost:8080/"
        },
        "id": "nVthdxND_zMT",
        "outputId": "a4cc13bd-18b1-4fcd-96d5-e6d5b4300397"
      },
      "execution_count": 370,
      "outputs": [
        {
          "output_type": "stream",
          "name": "stdout",
          "text": [
            "              precision    recall  f1-score   support\n",
            "\n",
            "           0       0.83      0.73      0.78        48\n",
            "           1       0.76      0.85      0.80        48\n",
            "\n",
            "    accuracy                           0.79        96\n",
            "   macro avg       0.80      0.79      0.79        96\n",
            "weighted avg       0.80      0.79      0.79        96\n",
            "\n"
          ]
        }
      ]
    },
    {
      "cell_type": "code",
      "source": [
        "print(confusion_matrix(y_test, y_pred_lr))"
      ],
      "metadata": {
        "colab": {
          "base_uri": "https://localhost:8080/"
        },
        "id": "Lz1O3vN1QAMP",
        "outputId": "d538c65d-4d54-43be-9d66-2448c9d3cc2e"
      },
      "execution_count": 371,
      "outputs": [
        {
          "output_type": "stream",
          "name": "stdout",
          "text": [
            "[[35 13]\n",
            " [ 7 41]]\n"
          ]
        }
      ]
    },
    {
      "cell_type": "code",
      "source": [
        "print(roc_auc_score(y_test, y_pred_lr))"
      ],
      "metadata": {
        "colab": {
          "base_uri": "https://localhost:8080/"
        },
        "id": "eMK4trBGCMi1",
        "outputId": "6ef5176e-4d6a-4b90-9979-129ad0c3b34f"
      },
      "execution_count": 409,
      "outputs": [
        {
          "output_type": "stream",
          "name": "stdout",
          "text": [
            "0.7916666666666667\n"
          ]
        }
      ]
    },
    {
      "cell_type": "markdown",
      "source": [
        "Random Forest"
      ],
      "metadata": {
        "id": "A_mgrexUQe5W"
      }
    },
    {
      "cell_type": "code",
      "source": [
        "rf_model = RandomForestClassifier(random_state=42)\n",
        "rf_model.fit(X_train, y_train)\n",
        "y_pred_rf = rf_model.predict(X_test)\n",
        "print(classification_report(y_test, y_pred_rf))"
      ],
      "metadata": {
        "colab": {
          "base_uri": "https://localhost:8080/"
        },
        "id": "TPA1KKQjQhoT",
        "outputId": "3efb93d5-5e7b-44d5-903b-1eb86c5582d0"
      },
      "execution_count": 372,
      "outputs": [
        {
          "output_type": "stream",
          "name": "stdout",
          "text": [
            "              precision    recall  f1-score   support\n",
            "\n",
            "           0       0.80      0.77      0.79        48\n",
            "           1       0.78      0.81      0.80        48\n",
            "\n",
            "    accuracy                           0.79        96\n",
            "   macro avg       0.79      0.79      0.79        96\n",
            "weighted avg       0.79      0.79      0.79        96\n",
            "\n"
          ]
        }
      ]
    },
    {
      "cell_type": "code",
      "source": [
        "print(confusion_matrix(y_test, y_pred_rf))"
      ],
      "metadata": {
        "colab": {
          "base_uri": "https://localhost:8080/"
        },
        "id": "zA3qdFS7Q7t4",
        "outputId": "96affd89-96fe-4065-843e-84db0ea94e70"
      },
      "execution_count": 373,
      "outputs": [
        {
          "output_type": "stream",
          "name": "stdout",
          "text": [
            "[[37 11]\n",
            " [ 9 39]]\n"
          ]
        }
      ]
    },
    {
      "cell_type": "code",
      "source": [
        "print(roc_auc_score(y_test, y_pred_rf))"
      ],
      "metadata": {
        "colab": {
          "base_uri": "https://localhost:8080/"
        },
        "id": "s08-SNoZCUDk",
        "outputId": "3973d197-0bf7-4c1c-ecbb-6c690c7ac98d"
      },
      "execution_count": 410,
      "outputs": [
        {
          "output_type": "stream",
          "name": "stdout",
          "text": [
            "0.7916666666666667\n"
          ]
        }
      ]
    },
    {
      "cell_type": "markdown",
      "source": [
        "🥇 **XGBoost**"
      ],
      "metadata": {
        "id": "nEOAkEkbCWoa"
      }
    },
    {
      "cell_type": "code",
      "source": [
        "xgb_model = XGBClassifier()\n",
        "xgb_model.fit(X_train, y_train)\n",
        "y_pred_xgb = xgb_model.predict(X_test)\n",
        "print(classification_report(y_test, y_pred_xgb))"
      ],
      "metadata": {
        "colab": {
          "base_uri": "https://localhost:8080/"
        },
        "id": "eq8UZqwdCX0Y",
        "outputId": "59963072-4e7e-4f5a-a639-0fa9e60d53a9"
      },
      "execution_count": 374,
      "outputs": [
        {
          "output_type": "stream",
          "name": "stdout",
          "text": [
            "              precision    recall  f1-score   support\n",
            "\n",
            "           0       0.82      0.83      0.82        48\n",
            "           1       0.83      0.81      0.82        48\n",
            "\n",
            "    accuracy                           0.82        96\n",
            "   macro avg       0.82      0.82      0.82        96\n",
            "weighted avg       0.82      0.82      0.82        96\n",
            "\n"
          ]
        }
      ]
    },
    {
      "cell_type": "code",
      "source": [
        "print(confusion_matrix(y_test, y_pred_xgb))"
      ],
      "metadata": {
        "colab": {
          "base_uri": "https://localhost:8080/"
        },
        "id": "KUlB0LZxWDwP",
        "outputId": "eed41ee0-33d6-4896-99fa-2a8e040399fb"
      },
      "execution_count": 375,
      "outputs": [
        {
          "output_type": "stream",
          "name": "stdout",
          "text": [
            "[[40  8]\n",
            " [ 9 39]]\n"
          ]
        }
      ]
    },
    {
      "cell_type": "code",
      "source": [
        "print(roc_auc_score(y_test, y_pred_xgb))"
      ],
      "metadata": {
        "colab": {
          "base_uri": "https://localhost:8080/"
        },
        "id": "Fdf2bk8qCZJo",
        "outputId": "294f2080-188f-4899-e20d-2036cb69ebb7"
      },
      "execution_count": 411,
      "outputs": [
        {
          "output_type": "stream",
          "name": "stdout",
          "text": [
            "0.8229166666666667\n"
          ]
        }
      ]
    },
    {
      "cell_type": "markdown",
      "source": [
        "AdaBoost"
      ],
      "metadata": {
        "id": "pc_a7O6dXNAB"
      }
    },
    {
      "cell_type": "code",
      "source": [
        "adb_model = AdaBoostClassifier()\n",
        "adb_model.fit(X_train, y_train)\n",
        "y_pred_adb = adb_model.predict(X_test)\n",
        "print(classification_report(y_test, y_pred_adb))"
      ],
      "metadata": {
        "colab": {
          "base_uri": "https://localhost:8080/"
        },
        "id": "HI8C3R2tXQwE",
        "outputId": "7994eff2-f295-476d-8656-f95f49b3e4f8"
      },
      "execution_count": 376,
      "outputs": [
        {
          "output_type": "stream",
          "name": "stdout",
          "text": [
            "              precision    recall  f1-score   support\n",
            "\n",
            "           0       0.79      0.77      0.78        48\n",
            "           1       0.78      0.79      0.78        48\n",
            "\n",
            "    accuracy                           0.78        96\n",
            "   macro avg       0.78      0.78      0.78        96\n",
            "weighted avg       0.78      0.78      0.78        96\n",
            "\n"
          ]
        }
      ]
    },
    {
      "cell_type": "code",
      "source": [
        "print(confusion_matrix(y_test, y_pred_adb))"
      ],
      "metadata": {
        "colab": {
          "base_uri": "https://localhost:8080/"
        },
        "id": "ij5lEi_YXav-",
        "outputId": "a3f1eb6e-9612-4f55-cf34-46848525dc59"
      },
      "execution_count": 377,
      "outputs": [
        {
          "output_type": "stream",
          "name": "stdout",
          "text": [
            "[[37 11]\n",
            " [10 38]]\n"
          ]
        }
      ]
    },
    {
      "cell_type": "code",
      "source": [
        "print(roc_auc_score(y_test, y_pred_adb))"
      ],
      "metadata": {
        "colab": {
          "base_uri": "https://localhost:8080/"
        },
        "id": "WGWVSyiYCcmt",
        "outputId": "e45d302a-b0e4-4f7d-a9f3-86337ae95d31"
      },
      "execution_count": 412,
      "outputs": [
        {
          "output_type": "stream",
          "name": "stdout",
          "text": [
            "0.78125\n"
          ]
        }
      ]
    },
    {
      "cell_type": "markdown",
      "source": [
        "Gradient Boosting"
      ],
      "metadata": {
        "id": "OTNvfUZM8EL5"
      }
    },
    {
      "cell_type": "code",
      "source": [
        "gb_model = GradientBoostingClassifier()\n",
        "gb_model.fit(X_train, y_train)\n",
        "y_pred_gb = gb_model.predict(X_test)\n",
        "print(classification_report(y_test, y_pred_gb))"
      ],
      "metadata": {
        "colab": {
          "base_uri": "https://localhost:8080/"
        },
        "id": "gpC9Ptx18FkJ",
        "outputId": "9419dce7-3209-47ef-ce18-e7e934c5e08a"
      },
      "execution_count": 378,
      "outputs": [
        {
          "output_type": "stream",
          "name": "stdout",
          "text": [
            "              precision    recall  f1-score   support\n",
            "\n",
            "           0       0.75      0.79      0.77        48\n",
            "           1       0.78      0.73      0.75        48\n",
            "\n",
            "    accuracy                           0.76        96\n",
            "   macro avg       0.76      0.76      0.76        96\n",
            "weighted avg       0.76      0.76      0.76        96\n",
            "\n"
          ]
        }
      ]
    },
    {
      "cell_type": "code",
      "source": [
        "print(confusion_matrix(y_test, y_pred_gb))"
      ],
      "metadata": {
        "colab": {
          "base_uri": "https://localhost:8080/"
        },
        "id": "oBo0IUGV-RMa",
        "outputId": "e5f1fb71-95b9-49de-a2a1-da0be8850f35"
      },
      "execution_count": 379,
      "outputs": [
        {
          "output_type": "stream",
          "name": "stdout",
          "text": [
            "[[38 10]\n",
            " [13 35]]\n"
          ]
        }
      ]
    },
    {
      "cell_type": "code",
      "source": [
        "print(roc_auc_score(y_test, y_pred_gb))"
      ],
      "metadata": {
        "colab": {
          "base_uri": "https://localhost:8080/"
        },
        "id": "wHcQk19zCgii",
        "outputId": "64be32c9-9ab9-440a-a714-80ff5274c498"
      },
      "execution_count": 413,
      "outputs": [
        {
          "output_type": "stream",
          "name": "stdout",
          "text": [
            "0.7604166666666665\n"
          ]
        }
      ]
    },
    {
      "cell_type": "markdown",
      "source": [
        "SVM"
      ],
      "metadata": {
        "id": "K81ugTt1UiYb"
      }
    },
    {
      "cell_type": "code",
      "source": [
        "svm_model = Pipeline([('scaler', StandardScaler()), ('svm', SVC())])\n",
        "svm_model.fit(X_train, y_train)\n",
        "y_pred_svm = svm_model.predict(X_test)\n",
        "print(classification_report(y_test, y_pred_svm))"
      ],
      "metadata": {
        "colab": {
          "base_uri": "https://localhost:8080/"
        },
        "id": "SrN7tLWeUjfC",
        "outputId": "0d84083e-3346-463d-93f5-f598a9108304"
      },
      "execution_count": 398,
      "outputs": [
        {
          "output_type": "stream",
          "name": "stdout",
          "text": [
            "              precision    recall  f1-score   support\n",
            "\n",
            "           0       0.72      0.75      0.73        48\n",
            "           1       0.74      0.71      0.72        48\n",
            "\n",
            "    accuracy                           0.73        96\n",
            "   macro avg       0.73      0.73      0.73        96\n",
            "weighted avg       0.73      0.73      0.73        96\n",
            "\n"
          ]
        }
      ]
    },
    {
      "cell_type": "code",
      "source": [
        "print(confusion_matrix(y_test, y_pred_svm))"
      ],
      "metadata": {
        "colab": {
          "base_uri": "https://localhost:8080/"
        },
        "id": "eyficOrxWACv",
        "outputId": "6e373b55-b5a6-4c09-db8d-4ef3005fde2f"
      },
      "execution_count": 381,
      "outputs": [
        {
          "output_type": "stream",
          "name": "stdout",
          "text": [
            "[[36 12]\n",
            " [14 34]]\n"
          ]
        }
      ]
    },
    {
      "cell_type": "code",
      "source": [
        "print(roc_auc_score(y_test, y_pred_svm))"
      ],
      "metadata": {
        "colab": {
          "base_uri": "https://localhost:8080/"
        },
        "id": "9C1Ins_CCsIb",
        "outputId": "f8454be5-6c60-4147-d173-14cbd1c31b1e"
      },
      "execution_count": 414,
      "outputs": [
        {
          "output_type": "stream",
          "name": "stdout",
          "text": [
            "0.7291666666666666\n"
          ]
        }
      ]
    },
    {
      "cell_type": "markdown",
      "source": [
        "kNN"
      ],
      "metadata": {
        "id": "8mHfkHeEU-9F"
      }
    },
    {
      "cell_type": "code",
      "source": [
        "knn_model = Pipeline([('scaler', StandardScaler()), ('knn', KNeighborsClassifier(n_neighbors=3))])\n",
        "knn_model.fit(X_train, y_train)\n",
        "y_pred_knn = knn_model.predict(X_test)\n",
        "print(classification_report(y_test, y_pred_knn))"
      ],
      "metadata": {
        "colab": {
          "base_uri": "https://localhost:8080/"
        },
        "id": "O9oJE4i3U_tA",
        "outputId": "2c630a1b-755c-486b-8c83-389ad79ce120"
      },
      "execution_count": 399,
      "outputs": [
        {
          "output_type": "stream",
          "name": "stdout",
          "text": [
            "              precision    recall  f1-score   support\n",
            "\n",
            "           0       0.55      0.67      0.60        48\n",
            "           1       0.58      0.46      0.51        48\n",
            "\n",
            "    accuracy                           0.56        96\n",
            "   macro avg       0.57      0.56      0.56        96\n",
            "weighted avg       0.57      0.56      0.56        96\n",
            "\n"
          ]
        }
      ]
    },
    {
      "cell_type": "code",
      "source": [
        "print(confusion_matrix(y_test, y_pred_knn))"
      ],
      "metadata": {
        "colab": {
          "base_uri": "https://localhost:8080/"
        },
        "id": "lLt-PBLUYfkq",
        "outputId": "dd598d02-2216-4bb6-84d2-0ff05a6a5a5c"
      },
      "execution_count": 383,
      "outputs": [
        {
          "output_type": "stream",
          "name": "stdout",
          "text": [
            "[[32 16]\n",
            " [26 22]]\n"
          ]
        }
      ]
    },
    {
      "cell_type": "code",
      "source": [
        "print(roc_auc_score(y_test, y_pred_knn))"
      ],
      "metadata": {
        "colab": {
          "base_uri": "https://localhost:8080/"
        },
        "id": "rn-1wdoxCugQ",
        "outputId": "cf4f8332-e463-4420-b827-21db0afc535d"
      },
      "execution_count": 415,
      "outputs": [
        {
          "output_type": "stream",
          "name": "stdout",
          "text": [
            "0.5625\n"
          ]
        }
      ]
    }
  ]
}