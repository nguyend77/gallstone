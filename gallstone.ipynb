{
  "nbformat": 4,
  "nbformat_minor": 0,
  "metadata": {
    "colab": {
      "provenance": []
    },
    "kernelspec": {
      "name": "python3",
      "display_name": "Python 3"
    },
    "language_info": {
      "name": "python"
    }
  },
  "cells": [
    {
      "cell_type": "markdown",
      "source": [
        "#🩺 A Machine Learning Approach for Gallstone Disease Prediction\n",
        "🧑‍💻 Dung Nguyen<br>\n",
        "🐦 Elmhurst University<br>\n",
        "📧 dung.nguyen@365.elmhurst.edu<br>\n"
      ],
      "metadata": {
        "id": "1g3HZNZAfxtX"
      }
    },
    {
      "cell_type": "markdown",
      "source": [
        "##📚 Libraries"
      ],
      "metadata": {
        "id": "bMKOio4bwnq1"
      }
    },
    {
      "cell_type": "code",
      "execution_count": 417,
      "metadata": {
        "id": "iW8kOJ5xecVR"
      },
      "outputs": [],
      "source": [
        "import pandas as pd\n",
        "import numpy as np\n",
        "from sklearn.feature_selection import f_classif\n",
        "from sklearn.metrics import classification_report, confusion_matrix, roc_auc_score\n",
        "from sklearn.preprocessing import StandardScaler\n",
        "from sklearn.model_selection import GridSearchCV, StratifiedKFold, train_test_split\n",
        "from sklearn.pipeline import Pipeline\n",
        "from sklearn.linear_model import LogisticRegression\n",
        "from sklearn.svm import SVC\n",
        "from sklearn.neighbors import KNeighborsClassifier\n",
        "from sklearn.neural_network import MLPClassifier\n",
        "from sklearn.ensemble import RandomForestClassifier, GradientBoostingClassifier, AdaBoostClassifier, VotingClassifier\n",
        "from xgboost import XGBClassifier"
      ]
    },
    {
      "cell_type": "markdown",
      "source": [
        "##📊 Data"
      ],
      "metadata": {
        "id": "vrku5VIfjs-i"
      }
    },
    {
      "cell_type": "code",
      "source": [
        "df = pd.read_csv('https://raw.githubusercontent.com/nguyend77/gallstone/refs/heads/main/data.csv')"
      ],
      "metadata": {
        "id": "VCQQcQcYjWok"
      },
      "execution_count": 359,
      "outputs": []
    },
    {
      "cell_type": "markdown",
      "source": [
        "Identify features (X) and target (y)"
      ],
      "metadata": {
        "id": "x6KcMji7Ifo1"
      }
    },
    {
      "cell_type": "code",
      "source": [
        "X = df.drop(columns=['gallstone', 'lean_mass', 'total_body_fat_ratio', 'bone_mass', 'extracellular_water', 'total_fat_content', 'ecf_tbw', 'visceral_fat_area', 'total_body_water', 'muscle_mass', 'hepatic_fat_accumulation', 'visceral_muscle_area', 'intracellular_water', 'visceral_fat_rating', 'obesity', 'protein'])\n",
        "y = df['gallstone']"
      ],
      "metadata": {
        "id": "IJ7d-rvXIgPK"
      },
      "execution_count": 360,
      "outputs": []
    },
    {
      "cell_type": "markdown",
      "source": [
        "ANOVA F-Scores"
      ],
      "metadata": {
        "id": "9JSlusDYHvUq"
      }
    },
    {
      "cell_type": "code",
      "source": [
        "f_scores, p_values = f_classif(X, y)\n",
        "feature_scores_df = pd.DataFrame({'Feature': X.columns, 'F_Score': f_scores, 'P_Value': p_values})\n",
        "feature_scores_df = feature_scores_df.sort_values(by='F_Score', ascending=False)\n",
        "print(feature_scores_df)"
      ],
      "metadata": {
        "colab": {
          "base_uri": "https://localhost:8080/"
        },
        "id": "unFc6pzPHw8T",
        "outputId": "c910cd79-edec-4591-c0c3-310dfbe211b9"
      },
      "execution_count": 375,
      "outputs": [
        {
          "output_type": "stream",
          "name": "stdout",
          "text": [
            "                       Feature    F_Score       P_Value\n",
            "22                    vitaminD  45.673154  6.709802e-11\n",
            "20          c_reactive_protein  27.385949  3.037234e-07\n",
            "21                  hemoglobin  12.781941  4.045010e-04\n",
            "5               hyperlipidemia   8.532832  3.738263e-03\n",
            "13                         hdl   8.181862  4.511971e-03\n",
            "1                       gender   7.647763  6.017412e-03\n",
            "15                         ast   5.876601  1.590243e-02\n",
            "18                  creatinine   5.645945  1.808963e-02\n",
            "9                          bmi   4.750322  3.002851e-02\n",
            "17                         alp   3.874263  4.990295e-02\n",
            "7                       height   3.735465  5.415938e-02\n",
            "6                     diabetes   3.512774  6.181698e-02\n",
            "3      coronary_artery_disease   3.010879  8.367928e-02\n",
            "12                         ldl   1.014058  3.147007e-01\n",
            "4               hypothyroidism   0.968731  3.257475e-01\n",
            "14                triglyceride   0.821302  3.654882e-01\n",
            "8                       weight   0.752641  3.862977e-01\n",
            "2                  comorbidity   0.747912  3.877922e-01\n",
            "16                         alt   0.558492  4.554226e-01\n",
            "0                          age   0.419158  5.178263e-01\n",
            "19  glomerular_filtration_rate   0.253650  6.148661e-01\n",
            "11           total_cholesterol   0.063036  8.019233e-01\n",
            "10                     glucose   0.041914  8.379145e-01\n"
          ]
        }
      ]
    },
    {
      "cell_type": "markdown",
      "source": [
        "Train-Test Split"
      ],
      "metadata": {
        "id": "rgd7rSDYJtRS"
      }
    },
    {
      "cell_type": "code",
      "source": [
        "X_reduced = X.drop(columns=['total_cholesterol', 'age'])\n",
        "X_train, X_test, y_train, y_test = train_test_split(X_reduced, y, test_size=0.3, random_state=42, stratify=y)"
      ],
      "metadata": {
        "id": "qozg-FDRJvDF"
      },
      "execution_count": 376,
      "outputs": []
    },
    {
      "cell_type": "markdown",
      "source": [
        "##🔢 Models"
      ],
      "metadata": {
        "id": "1FWOE1GBdj1C"
      }
    },
    {
      "cell_type": "markdown",
      "source": [
        "###Logistic Regression"
      ],
      "metadata": {
        "id": "a-Ohjccu_0M3"
      }
    },
    {
      "cell_type": "code",
      "source": [
        "lr_model = LogisticRegression(solver = 'liblinear', max_iter = 1000)\n",
        "lr_model.fit(X_train, y_train)\n",
        "y_pred_lr = lr_model.predict(X_test)\n",
        "print(classification_report(y_test, y_pred_lr))"
      ],
      "metadata": {
        "colab": {
          "base_uri": "https://localhost:8080/"
        },
        "id": "nVthdxND_zMT",
        "outputId": "22cc9eb3-dd3b-4996-f144-74f41c7135f2"
      },
      "execution_count": 381,
      "outputs": [
        {
          "output_type": "stream",
          "name": "stdout",
          "text": [
            "              precision    recall  f1-score   support\n",
            "\n",
            "           0       0.82      0.75      0.78        48\n",
            "           1       0.77      0.83      0.80        48\n",
            "\n",
            "    accuracy                           0.79        96\n",
            "   macro avg       0.79      0.79      0.79        96\n",
            "weighted avg       0.79      0.79      0.79        96\n",
            "\n"
          ]
        }
      ]
    },
    {
      "cell_type": "code",
      "source": [
        "print(confusion_matrix(y_test, y_pred_lr))"
      ],
      "metadata": {
        "colab": {
          "base_uri": "https://localhost:8080/"
        },
        "id": "Lz1O3vN1QAMP",
        "outputId": "d1789ef3-ae37-4054-92aa-246dd8c1ea55"
      },
      "execution_count": 382,
      "outputs": [
        {
          "output_type": "stream",
          "name": "stdout",
          "text": [
            "[[36 12]\n",
            " [ 8 40]]\n"
          ]
        }
      ]
    },
    {
      "cell_type": "code",
      "source": [
        "print(roc_auc_score(y_test, y_pred_lr))"
      ],
      "metadata": {
        "colab": {
          "base_uri": "https://localhost:8080/"
        },
        "id": "eMK4trBGCMi1",
        "outputId": "198dd93e-e431-48e2-95ab-17792eb707b2"
      },
      "execution_count": 383,
      "outputs": [
        {
          "output_type": "stream",
          "name": "stdout",
          "text": [
            "0.7916666666666666\n"
          ]
        }
      ]
    },
    {
      "cell_type": "markdown",
      "source": [
        "###Random Forest"
      ],
      "metadata": {
        "id": "A_mgrexUQe5W"
      }
    },
    {
      "cell_type": "code",
      "source": [
        "rf_model = RandomForestClassifier(random_state=42)\n",
        "rf_model.fit(X_train, y_train)\n",
        "y_pred_rf = rf_model.predict(X_test)\n",
        "print(classification_report(y_test, y_pred_rf))"
      ],
      "metadata": {
        "colab": {
          "base_uri": "https://localhost:8080/"
        },
        "id": "TPA1KKQjQhoT",
        "outputId": "55457a04-c35c-4f1e-edec-8964478f4915"
      },
      "execution_count": 384,
      "outputs": [
        {
          "output_type": "stream",
          "name": "stdout",
          "text": [
            "              precision    recall  f1-score   support\n",
            "\n",
            "           0       0.78      0.79      0.78        48\n",
            "           1       0.79      0.77      0.78        48\n",
            "\n",
            "    accuracy                           0.78        96\n",
            "   macro avg       0.78      0.78      0.78        96\n",
            "weighted avg       0.78      0.78      0.78        96\n",
            "\n"
          ]
        }
      ]
    },
    {
      "cell_type": "code",
      "source": [
        "print(confusion_matrix(y_test, y_pred_rf))"
      ],
      "metadata": {
        "colab": {
          "base_uri": "https://localhost:8080/"
        },
        "id": "zA3qdFS7Q7t4",
        "outputId": "7118b78e-dd28-4a7c-c04c-b9618f7c90e5"
      },
      "execution_count": 385,
      "outputs": [
        {
          "output_type": "stream",
          "name": "stdout",
          "text": [
            "[[38 10]\n",
            " [11 37]]\n"
          ]
        }
      ]
    },
    {
      "cell_type": "code",
      "source": [
        "print(roc_auc_score(y_test, y_pred_rf))"
      ],
      "metadata": {
        "colab": {
          "base_uri": "https://localhost:8080/"
        },
        "id": "s08-SNoZCUDk",
        "outputId": "da0e52b5-7604-4bf1-f685-0214bf141fc3"
      },
      "execution_count": 386,
      "outputs": [
        {
          "output_type": "stream",
          "name": "stdout",
          "text": [
            "0.78125\n"
          ]
        }
      ]
    },
    {
      "cell_type": "markdown",
      "source": [
        "###🥈 **XGBoost**"
      ],
      "metadata": {
        "id": "nEOAkEkbCWoa"
      }
    },
    {
      "cell_type": "code",
      "source": [
        "xgb_model = XGBClassifier()\n",
        "xgb_model.fit(X_train, y_train)\n",
        "y_pred_xgb = xgb_model.predict(X_test)\n",
        "print(classification_report(y_test, y_pred_xgb))"
      ],
      "metadata": {
        "colab": {
          "base_uri": "https://localhost:8080/"
        },
        "id": "eq8UZqwdCX0Y",
        "outputId": "ff4e6885-64ec-4ba5-cfa8-4551009e9ce6"
      },
      "execution_count": 387,
      "outputs": [
        {
          "output_type": "stream",
          "name": "stdout",
          "text": [
            "              precision    recall  f1-score   support\n",
            "\n",
            "           0       0.80      0.85      0.83        48\n",
            "           1       0.84      0.79      0.82        48\n",
            "\n",
            "    accuracy                           0.82        96\n",
            "   macro avg       0.82      0.82      0.82        96\n",
            "weighted avg       0.82      0.82      0.82        96\n",
            "\n"
          ]
        }
      ]
    },
    {
      "cell_type": "code",
      "source": [
        "print(confusion_matrix(y_test, y_pred_xgb))"
      ],
      "metadata": {
        "colab": {
          "base_uri": "https://localhost:8080/"
        },
        "id": "KUlB0LZxWDwP",
        "outputId": "437c8f8c-7848-4512-d717-f5eabca6e8a9"
      },
      "execution_count": 388,
      "outputs": [
        {
          "output_type": "stream",
          "name": "stdout",
          "text": [
            "[[41  7]\n",
            " [10 38]]\n"
          ]
        }
      ]
    },
    {
      "cell_type": "code",
      "source": [
        "print(roc_auc_score(y_test, y_pred_xgb))"
      ],
      "metadata": {
        "colab": {
          "base_uri": "https://localhost:8080/"
        },
        "id": "Fdf2bk8qCZJo",
        "outputId": "784dcd8b-ebd3-4769-a089-2e0e0a87d444"
      },
      "execution_count": 389,
      "outputs": [
        {
          "output_type": "stream",
          "name": "stdout",
          "text": [
            "0.8229166666666665\n"
          ]
        }
      ]
    },
    {
      "cell_type": "markdown",
      "source": [
        "###AdaBoost"
      ],
      "metadata": {
        "id": "pc_a7O6dXNAB"
      }
    },
    {
      "cell_type": "code",
      "source": [
        "adb_model = AdaBoostClassifier()\n",
        "adb_model.fit(X_train, y_train)\n",
        "y_pred_adb = adb_model.predict(X_test)\n",
        "print(classification_report(y_test, y_pred_adb))"
      ],
      "metadata": {
        "colab": {
          "base_uri": "https://localhost:8080/"
        },
        "id": "HI8C3R2tXQwE",
        "outputId": "4966c007-e66e-4477-9ac3-3955c6abb875"
      },
      "execution_count": 390,
      "outputs": [
        {
          "output_type": "stream",
          "name": "stdout",
          "text": [
            "              precision    recall  f1-score   support\n",
            "\n",
            "           0       0.79      0.79      0.79        48\n",
            "           1       0.79      0.79      0.79        48\n",
            "\n",
            "    accuracy                           0.79        96\n",
            "   macro avg       0.79      0.79      0.79        96\n",
            "weighted avg       0.79      0.79      0.79        96\n",
            "\n"
          ]
        }
      ]
    },
    {
      "cell_type": "code",
      "source": [
        "print(confusion_matrix(y_test, y_pred_adb))"
      ],
      "metadata": {
        "colab": {
          "base_uri": "https://localhost:8080/"
        },
        "id": "ij5lEi_YXav-",
        "outputId": "6fea0901-ed26-4c36-8cc0-f739892e7245"
      },
      "execution_count": 391,
      "outputs": [
        {
          "output_type": "stream",
          "name": "stdout",
          "text": [
            "[[38 10]\n",
            " [10 38]]\n"
          ]
        }
      ]
    },
    {
      "cell_type": "code",
      "source": [
        "print(roc_auc_score(y_test, y_pred_adb))"
      ],
      "metadata": {
        "colab": {
          "base_uri": "https://localhost:8080/"
        },
        "id": "WGWVSyiYCcmt",
        "outputId": "8e4643a3-0427-41c7-90ca-8be44f0527be"
      },
      "execution_count": 392,
      "outputs": [
        {
          "output_type": "stream",
          "name": "stdout",
          "text": [
            "0.7916666666666666\n"
          ]
        }
      ]
    },
    {
      "cell_type": "markdown",
      "source": [
        "###Gradient Boosting"
      ],
      "metadata": {
        "id": "OTNvfUZM8EL5"
      }
    },
    {
      "cell_type": "code",
      "source": [
        "gb_model = GradientBoostingClassifier()\n",
        "gb_model.fit(X_train, y_train)\n",
        "y_pred_gb = gb_model.predict(X_test)\n",
        "print(classification_report(y_test, y_pred_gb))"
      ],
      "metadata": {
        "colab": {
          "base_uri": "https://localhost:8080/"
        },
        "id": "gpC9Ptx18FkJ",
        "outputId": "a369f41f-9a24-4ae0-916d-05a5eab27b2c"
      },
      "execution_count": 393,
      "outputs": [
        {
          "output_type": "stream",
          "name": "stdout",
          "text": [
            "              precision    recall  f1-score   support\n",
            "\n",
            "           0       0.77      0.77      0.77        48\n",
            "           1       0.77      0.77      0.77        48\n",
            "\n",
            "    accuracy                           0.77        96\n",
            "   macro avg       0.77      0.77      0.77        96\n",
            "weighted avg       0.77      0.77      0.77        96\n",
            "\n"
          ]
        }
      ]
    },
    {
      "cell_type": "code",
      "source": [
        "print(confusion_matrix(y_test, y_pred_gb))"
      ],
      "metadata": {
        "colab": {
          "base_uri": "https://localhost:8080/"
        },
        "id": "oBo0IUGV-RMa",
        "outputId": "982c6405-80bc-455a-c8c3-f35baf49f0ff"
      },
      "execution_count": 394,
      "outputs": [
        {
          "output_type": "stream",
          "name": "stdout",
          "text": [
            "[[37 11]\n",
            " [11 37]]\n"
          ]
        }
      ]
    },
    {
      "cell_type": "code",
      "source": [
        "print(roc_auc_score(y_test, y_pred_gb))"
      ],
      "metadata": {
        "colab": {
          "base_uri": "https://localhost:8080/"
        },
        "id": "wHcQk19zCgii",
        "outputId": "e6378bd6-de18-489f-b3b1-d98ea68a21b1"
      },
      "execution_count": 395,
      "outputs": [
        {
          "output_type": "stream",
          "name": "stdout",
          "text": [
            "0.7708333333333335\n"
          ]
        }
      ]
    },
    {
      "cell_type": "markdown",
      "source": [
        "###SVM"
      ],
      "metadata": {
        "id": "K81ugTt1UiYb"
      }
    },
    {
      "cell_type": "code",
      "source": [
        "svm_model = Pipeline([('scaler', StandardScaler()), ('svm', SVC())])\n",
        "svm_model.fit(X_train, y_train)\n",
        "y_pred_svm = svm_model.predict(X_test)\n",
        "print(classification_report(y_test, y_pred_svm))"
      ],
      "metadata": {
        "colab": {
          "base_uri": "https://localhost:8080/"
        },
        "id": "SrN7tLWeUjfC",
        "outputId": "867a2afe-3d63-42f2-f88e-e88747ecd4db"
      },
      "execution_count": 396,
      "outputs": [
        {
          "output_type": "stream",
          "name": "stdout",
          "text": [
            "              precision    recall  f1-score   support\n",
            "\n",
            "           0       0.73      0.75      0.74        48\n",
            "           1       0.74      0.73      0.74        48\n",
            "\n",
            "    accuracy                           0.74        96\n",
            "   macro avg       0.74      0.74      0.74        96\n",
            "weighted avg       0.74      0.74      0.74        96\n",
            "\n"
          ]
        }
      ]
    },
    {
      "cell_type": "code",
      "source": [
        "print(confusion_matrix(y_test, y_pred_svm))"
      ],
      "metadata": {
        "colab": {
          "base_uri": "https://localhost:8080/"
        },
        "id": "eyficOrxWACv",
        "outputId": "f27837c0-3c0b-4c07-9aee-ebbc333acff9"
      },
      "execution_count": 397,
      "outputs": [
        {
          "output_type": "stream",
          "name": "stdout",
          "text": [
            "[[36 12]\n",
            " [13 35]]\n"
          ]
        }
      ]
    },
    {
      "cell_type": "code",
      "source": [
        "print(roc_auc_score(y_test, y_pred_svm))"
      ],
      "metadata": {
        "colab": {
          "base_uri": "https://localhost:8080/"
        },
        "id": "9C1Ins_CCsIb",
        "outputId": "63839e4a-a7da-47e3-8efb-d82f79cc8b0a"
      },
      "execution_count": 398,
      "outputs": [
        {
          "output_type": "stream",
          "name": "stdout",
          "text": [
            "0.7395833333333334\n"
          ]
        }
      ]
    },
    {
      "cell_type": "markdown",
      "source": [
        "###kNN"
      ],
      "metadata": {
        "id": "8mHfkHeEU-9F"
      }
    },
    {
      "cell_type": "code",
      "source": [
        "knn_model = Pipeline([('scaler', StandardScaler()), ('knn', KNeighborsClassifier(n_neighbors=3))])\n",
        "knn_model.fit(X_train, y_train)\n",
        "y_pred_knn = knn_model.predict(X_test)\n",
        "print(classification_report(y_test, y_pred_knn))"
      ],
      "metadata": {
        "colab": {
          "base_uri": "https://localhost:8080/"
        },
        "id": "O9oJE4i3U_tA",
        "outputId": "8f0fcbae-aeac-499b-8e00-fdd3640a8d0f"
      },
      "execution_count": 399,
      "outputs": [
        {
          "output_type": "stream",
          "name": "stdout",
          "text": [
            "              precision    recall  f1-score   support\n",
            "\n",
            "           0       0.60      0.71      0.65        48\n",
            "           1       0.64      0.52      0.57        48\n",
            "\n",
            "    accuracy                           0.61        96\n",
            "   macro avg       0.62      0.61      0.61        96\n",
            "weighted avg       0.62      0.61      0.61        96\n",
            "\n"
          ]
        }
      ]
    },
    {
      "cell_type": "code",
      "source": [
        "print(confusion_matrix(y_test, y_pred_knn))"
      ],
      "metadata": {
        "colab": {
          "base_uri": "https://localhost:8080/"
        },
        "id": "lLt-PBLUYfkq",
        "outputId": "ccc825fb-aeff-4c12-a421-59366905fb6a"
      },
      "execution_count": 400,
      "outputs": [
        {
          "output_type": "stream",
          "name": "stdout",
          "text": [
            "[[34 14]\n",
            " [23 25]]\n"
          ]
        }
      ]
    },
    {
      "cell_type": "code",
      "source": [
        "print(roc_auc_score(y_test, y_pred_knn))"
      ],
      "metadata": {
        "colab": {
          "base_uri": "https://localhost:8080/"
        },
        "id": "rn-1wdoxCugQ",
        "outputId": "e6b730a2-1b50-47c9-a99b-41c90c5a82ab"
      },
      "execution_count": 401,
      "outputs": [
        {
          "output_type": "stream",
          "name": "stdout",
          "text": [
            "0.6145833333333334\n"
          ]
        }
      ]
    },
    {
      "cell_type": "markdown",
      "source": [
        "###🥇 **Ensemble**"
      ],
      "metadata": {
        "id": "tpn2NNqY8X5M"
      }
    },
    {
      "cell_type": "code",
      "source": [
        "ensemble_model = VotingClassifier(estimators=[('lr', lr_model), ('xgb', xgb_model)], voting='soft')\n",
        "ensemble_model.fit(X_train, y_train)\n",
        "y_pred_ensemble = ensemble_model.predict(X_test)\n",
        "print(classification_report(y_test, y_pred_ensemble, digits=4))"
      ],
      "metadata": {
        "colab": {
          "base_uri": "https://localhost:8080/"
        },
        "id": "cETsZR6Y8YwX",
        "outputId": "e1c10650-0cd0-435c-9281-50e228b23402"
      },
      "execution_count": 409,
      "outputs": [
        {
          "output_type": "stream",
          "name": "stdout",
          "text": [
            "              precision    recall  f1-score   support\n",
            "\n",
            "           0     0.8542    0.8542    0.8542        48\n",
            "           1     0.8542    0.8542    0.8542        48\n",
            "\n",
            "    accuracy                         0.8542        96\n",
            "   macro avg     0.8542    0.8542    0.8542        96\n",
            "weighted avg     0.8542    0.8542    0.8542        96\n",
            "\n"
          ]
        }
      ]
    },
    {
      "cell_type": "code",
      "source": [
        "print(confusion_matrix(y_test, y_pred_ensemble))"
      ],
      "metadata": {
        "colab": {
          "base_uri": "https://localhost:8080/"
        },
        "id": "Hwy_AhXH8it4",
        "outputId": "fc9f6d07-fff6-4b92-c73b-eb2a124dd07b"
      },
      "execution_count": 410,
      "outputs": [
        {
          "output_type": "stream",
          "name": "stdout",
          "text": [
            "[[41  7]\n",
            " [ 7 41]]\n"
          ]
        }
      ]
    },
    {
      "cell_type": "code",
      "source": [
        "print(roc_auc_score(y_test, y_pred_ensemble))"
      ],
      "metadata": {
        "colab": {
          "base_uri": "https://localhost:8080/"
        },
        "id": "2llp-bsr8qli",
        "outputId": "058de0a6-4f26-48b0-c2d3-434cb40d9103"
      },
      "execution_count": 404,
      "outputs": [
        {
          "output_type": "stream",
          "name": "stdout",
          "text": [
            "0.8541666666666666\n"
          ]
        }
      ]
    },
    {
      "cell_type": "markdown",
      "source": [
        "Ignore: Brute force ensemble model search"
      ],
      "metadata": {
        "id": "sY2dKoxxtwe1"
      }
    },
    {
      "cell_type": "code",
      "source": [
        "#models = [('lr', lr_model), ('rf', rf_model), ('xgb', xgb_model), ('adb', adb_model), ('gb', gb_model), ('knn', knn_model)]\n",
        "#for model1 in models:\n",
        "    #for model2 in models:\n",
        "        #if model1 != model2:\n",
        "            #ensemble_model = VotingClassifier(estimators=[model1, model2], voting='soft')\n",
        "            #ensemble_model.fit(X_train, y_train)\n",
        "            #y_pred_ensemble = ensemble_model.predict(X_test)\n",
        "            #print(f\"({model1[0]}, {model2[0]})\")\n",
        "            #print(classification_report(y_test, y_pred_ensemble))"
      ],
      "metadata": {
        "id": "Vsr7WHGinR9Y"
      },
      "execution_count": 406,
      "outputs": []
    }
  ]
}
