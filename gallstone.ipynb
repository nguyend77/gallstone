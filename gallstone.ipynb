{
  "nbformat": 4,
  "nbformat_minor": 0,
  "metadata": {
    "colab": {
      "provenance": []
    },
    "kernelspec": {
      "name": "python3",
      "display_name": "Python 3"
    },
    "language_info": {
      "name": "python"
    }
  },
  "cells": [
    {
      "cell_type": "markdown",
      "source": [
        "#🩺 A Machine Learning Approach for Gallstone Disease Prediction\n",
        "🧑‍💻 Dung Nguyen<br>\n",
        "🐦 Elmhurst University<br>\n",
        "📧 dung.nguyen@365.elmhurst.edu<br>\n"
      ],
      "metadata": {
        "id": "1g3HZNZAfxtX"
      }
    },
    {
      "cell_type": "markdown",
      "source": [
        "##👀 TL;DR\n",
        "Original dataset: https://doi.org/10.1097/md.0000000000037258.<br>\n",
        "Novelty: Predict presence of gallstone without medical imaging techniques nor bioelectrical impedance analysis (BIA) data.\n",
        "\n",
        "\n",
        "Models' Performance:\n",
        "\n",
        "| Model               | Accuracy | Precision | Recall | F1-Score | AUC |\n",
        "| :------------------ | :------- | :-------------------- | :----------------- | :------------------- | :-------- |\n",
        "| Logistic Regression | 0.7917   | 0.7917                | 0.7917             | 0.7917               | 0.7917    |\n",
        "| Random Forest       | 0.7813   | 0.7813                | 0.7813             | 0.7813               | 0.7813    |\n",
        "| XGBoost             | 0.8229   | 0.8229                | 0.8229             | 0.8229               | 0.8229    |\n",
        "| AdaBoost            | 0.7917   | 0.7917                | 0.7917             | 0.7917               | 0.7917    |\n",
        "| Gradient Boosting   | 0.7708   | 0.7708                | 0.7708             | 0.7708               | 0.7708    |\n",
        "| SVM                 | 0.7396   | 0.7396                | 0.7396             | 0.7396               | 0.7396    |\n",
        "| kNN                 | 0.6146   | 0.6146                | 0.6146             | 0.6146               | 0.6146    |\n",
        "| ⭐ **LR + XGB** | **0.8542** | **0.8542** | **0.8542** | **0.8542** | **0.8542**|"
      ],
      "metadata": {
        "id": "fNMeBQ2R0fCZ"
      }
    },
    {
      "cell_type": "markdown",
      "source": [
        "##📚 Libraries"
      ],
      "metadata": {
        "id": "bMKOio4bwnq1"
      }
    },
    {
      "cell_type": "code",
      "execution_count": 1,
      "metadata": {
        "id": "iW8kOJ5xecVR"
      },
      "outputs": [],
      "source": [
        "import pandas as pd\n",
        "import numpy as np\n",
        "from sklearn.feature_selection import f_classif\n",
        "from sklearn.metrics import classification_report, confusion_matrix, roc_auc_score\n",
        "from sklearn.preprocessing import StandardScaler\n",
        "from sklearn.model_selection import GridSearchCV, StratifiedKFold, train_test_split\n",
        "from sklearn.pipeline import Pipeline\n",
        "from sklearn.linear_model import LogisticRegression\n",
        "from sklearn.svm import SVC\n",
        "from sklearn.neighbors import KNeighborsClassifier\n",
        "from sklearn.ensemble import RandomForestClassifier, GradientBoostingClassifier, AdaBoostClassifier, VotingClassifier\n",
        "from xgboost import XGBClassifier"
      ]
    },
    {
      "cell_type": "markdown",
      "source": [
        "##📊 Data"
      ],
      "metadata": {
        "id": "vrku5VIfjs-i"
      }
    },
    {
      "cell_type": "code",
      "source": [
        "df = pd.read_csv('https://raw.githubusercontent.com/nguyend77/gallstone/refs/heads/main/data.csv')"
      ],
      "metadata": {
        "id": "VCQQcQcYjWok"
      },
      "execution_count": 2,
      "outputs": []
    },
    {
      "cell_type": "markdown",
      "source": [
        "Identify features (X) and target (y)"
      ],
      "metadata": {
        "id": "x6KcMji7Ifo1"
      }
    },
    {
      "cell_type": "code",
      "source": [
        "X = df.drop(columns=['gallstone', 'lean_mass', 'total_body_fat_ratio', 'bone_mass', 'extracellular_water', 'total_fat_content', 'ecf_tbw', 'visceral_fat_area', 'total_body_water', 'muscle_mass', 'hepatic_fat_accumulation', 'visceral_muscle_area', 'intracellular_water', 'visceral_fat_rating', 'obesity', 'protein'])\n",
        "y = df['gallstone']"
      ],
      "metadata": {
        "id": "IJ7d-rvXIgPK"
      },
      "execution_count": 3,
      "outputs": []
    },
    {
      "cell_type": "markdown",
      "source": [
        "ANOVA F-Scores"
      ],
      "metadata": {
        "id": "9JSlusDYHvUq"
      }
    },
    {
      "cell_type": "code",
      "source": [
        "f_scores, p_values = f_classif(X, y)\n",
        "feature_scores_df = pd.DataFrame({'Feature': X.columns, 'F_Score': f_scores, 'P_Value': p_values})\n",
        "feature_scores_df = feature_scores_df.sort_values(by='F_Score', ascending=False)\n",
        "print(feature_scores_df)"
      ],
      "metadata": {
        "colab": {
          "base_uri": "https://localhost:8080/"
        },
        "id": "unFc6pzPHw8T",
        "outputId": "ee6937c9-a486-492c-8cc7-e9a84ec41c34"
      },
      "execution_count": 4,
      "outputs": [
        {
          "output_type": "stream",
          "name": "stdout",
          "text": [
            "                       Feature    F_Score       P_Value\n",
            "22                    vitaminD  45.673154  6.709802e-11\n",
            "20          c_reactive_protein  27.385949  3.037234e-07\n",
            "21                  hemoglobin  12.781941  4.045010e-04\n",
            "5               hyperlipidemia   8.532832  3.738263e-03\n",
            "13                         hdl   8.181862  4.511971e-03\n",
            "1                       gender   7.647763  6.017412e-03\n",
            "15                         ast   5.876601  1.590243e-02\n",
            "18                  creatinine   5.645945  1.808963e-02\n",
            "9                          bmi   4.750322  3.002851e-02\n",
            "17                         alp   3.874263  4.990295e-02\n",
            "7                       height   3.735465  5.415938e-02\n",
            "6                     diabetes   3.512774  6.181698e-02\n",
            "3      coronary_artery_disease   3.010879  8.367928e-02\n",
            "12                         ldl   1.014058  3.147007e-01\n",
            "4               hypothyroidism   0.968731  3.257475e-01\n",
            "14                triglyceride   0.821302  3.654882e-01\n",
            "8                       weight   0.752641  3.862977e-01\n",
            "2                  comorbidity   0.747912  3.877922e-01\n",
            "16                         alt   0.558492  4.554226e-01\n",
            "0                          age   0.419158  5.178263e-01\n",
            "19  glomerular_filtration_rate   0.253650  6.148661e-01\n",
            "11           total_cholesterol   0.063036  8.019233e-01\n",
            "10                     glucose   0.041914  8.379145e-01\n"
          ]
        }
      ]
    },
    {
      "cell_type": "markdown",
      "source": [
        "Train-Test Split"
      ],
      "metadata": {
        "id": "rgd7rSDYJtRS"
      }
    },
    {
      "cell_type": "code",
      "source": [
        "X_reduced = X.drop(columns=['total_cholesterol', 'age'])\n",
        "X_train, X_test, y_train, y_test = train_test_split(X_reduced, y, test_size=0.3, random_state=42, stratify=y)"
      ],
      "metadata": {
        "id": "qozg-FDRJvDF"
      },
      "execution_count": 5,
      "outputs": []
    },
    {
      "cell_type": "markdown",
      "source": [
        "##🔢 Models"
      ],
      "metadata": {
        "id": "1FWOE1GBdj1C"
      }
    },
    {
      "cell_type": "markdown",
      "source": [
        "###Logistic Regression"
      ],
      "metadata": {
        "id": "a-Ohjccu_0M3"
      }
    },
    {
      "cell_type": "code",
      "source": [
        "lr_model = LogisticRegression(solver = 'liblinear', max_iter = 1000)\n",
        "lr_model.fit(X_train, y_train)\n",
        "y_pred_lr = lr_model.predict(X_test)\n",
        "print(classification_report(y_test, y_pred_lr))"
      ],
      "metadata": {
        "colab": {
          "base_uri": "https://localhost:8080/"
        },
        "id": "nVthdxND_zMT",
        "outputId": "4fe9c0a5-b91a-4d46-b15b-2d6d1ad875cf"
      },
      "execution_count": 6,
      "outputs": [
        {
          "output_type": "stream",
          "name": "stdout",
          "text": [
            "              precision    recall  f1-score   support\n",
            "\n",
            "           0       0.82      0.75      0.78        48\n",
            "           1       0.77      0.83      0.80        48\n",
            "\n",
            "    accuracy                           0.79        96\n",
            "   macro avg       0.79      0.79      0.79        96\n",
            "weighted avg       0.79      0.79      0.79        96\n",
            "\n"
          ]
        }
      ]
    },
    {
      "cell_type": "code",
      "source": [
        "print(confusion_matrix(y_test, y_pred_lr))"
      ],
      "metadata": {
        "colab": {
          "base_uri": "https://localhost:8080/"
        },
        "id": "Lz1O3vN1QAMP",
        "outputId": "179f5b74-cfec-4868-e7bd-631d62116f05"
      },
      "execution_count": 7,
      "outputs": [
        {
          "output_type": "stream",
          "name": "stdout",
          "text": [
            "[[36 12]\n",
            " [ 8 40]]\n"
          ]
        }
      ]
    },
    {
      "cell_type": "code",
      "source": [
        "print(roc_auc_score(y_test, y_pred_lr))"
      ],
      "metadata": {
        "colab": {
          "base_uri": "https://localhost:8080/"
        },
        "id": "eMK4trBGCMi1",
        "outputId": "0cdbc11d-75b1-4b88-8ac2-c0c2bcf7248d"
      },
      "execution_count": 8,
      "outputs": [
        {
          "output_type": "stream",
          "name": "stdout",
          "text": [
            "0.7916666666666666\n"
          ]
        }
      ]
    },
    {
      "cell_type": "markdown",
      "source": [
        "###Random Forest"
      ],
      "metadata": {
        "id": "A_mgrexUQe5W"
      }
    },
    {
      "cell_type": "code",
      "source": [
        "rf_model = RandomForestClassifier(random_state=42)\n",
        "rf_model.fit(X_train, y_train)\n",
        "y_pred_rf = rf_model.predict(X_test)\n",
        "print(classification_report(y_test, y_pred_rf))"
      ],
      "metadata": {
        "colab": {
          "base_uri": "https://localhost:8080/"
        },
        "id": "TPA1KKQjQhoT",
        "outputId": "d0204c75-c770-476e-8f6a-4dca681c1c7b"
      },
      "execution_count": 9,
      "outputs": [
        {
          "output_type": "stream",
          "name": "stdout",
          "text": [
            "              precision    recall  f1-score   support\n",
            "\n",
            "           0       0.78      0.79      0.78        48\n",
            "           1       0.79      0.77      0.78        48\n",
            "\n",
            "    accuracy                           0.78        96\n",
            "   macro avg       0.78      0.78      0.78        96\n",
            "weighted avg       0.78      0.78      0.78        96\n",
            "\n"
          ]
        }
      ]
    },
    {
      "cell_type": "code",
      "source": [
        "print(confusion_matrix(y_test, y_pred_rf))"
      ],
      "metadata": {
        "colab": {
          "base_uri": "https://localhost:8080/"
        },
        "id": "zA3qdFS7Q7t4",
        "outputId": "cb65291e-2132-4ef8-9423-325b0f85fcf1"
      },
      "execution_count": 10,
      "outputs": [
        {
          "output_type": "stream",
          "name": "stdout",
          "text": [
            "[[38 10]\n",
            " [11 37]]\n"
          ]
        }
      ]
    },
    {
      "cell_type": "code",
      "source": [
        "print(roc_auc_score(y_test, y_pred_rf))"
      ],
      "metadata": {
        "colab": {
          "base_uri": "https://localhost:8080/"
        },
        "id": "s08-SNoZCUDk",
        "outputId": "6e10491d-fed2-41e8-afe6-02fbb6458573"
      },
      "execution_count": 11,
      "outputs": [
        {
          "output_type": "stream",
          "name": "stdout",
          "text": [
            "0.78125\n"
          ]
        }
      ]
    },
    {
      "cell_type": "markdown",
      "source": [
        "###🥈 **XGBoost**"
      ],
      "metadata": {
        "id": "nEOAkEkbCWoa"
      }
    },
    {
      "cell_type": "code",
      "source": [
        "xgb_model = XGBClassifier()\n",
        "xgb_model.fit(X_train, y_train)\n",
        "y_pred_xgb = xgb_model.predict(X_test)\n",
        "print(classification_report(y_test, y_pred_xgb))"
      ],
      "metadata": {
        "colab": {
          "base_uri": "https://localhost:8080/"
        },
        "id": "eq8UZqwdCX0Y",
        "outputId": "db5f07c0-18d8-4075-e33c-4cefa0a7e2c8"
      },
      "execution_count": 12,
      "outputs": [
        {
          "output_type": "stream",
          "name": "stdout",
          "text": [
            "              precision    recall  f1-score   support\n",
            "\n",
            "           0       0.80      0.85      0.83        48\n",
            "           1       0.84      0.79      0.82        48\n",
            "\n",
            "    accuracy                           0.82        96\n",
            "   macro avg       0.82      0.82      0.82        96\n",
            "weighted avg       0.82      0.82      0.82        96\n",
            "\n"
          ]
        }
      ]
    },
    {
      "cell_type": "code",
      "source": [
        "print(confusion_matrix(y_test, y_pred_xgb))"
      ],
      "metadata": {
        "colab": {
          "base_uri": "https://localhost:8080/"
        },
        "id": "KUlB0LZxWDwP",
        "outputId": "8b9ebead-5c69-4003-bdeb-367c5028f034"
      },
      "execution_count": 13,
      "outputs": [
        {
          "output_type": "stream",
          "name": "stdout",
          "text": [
            "[[41  7]\n",
            " [10 38]]\n"
          ]
        }
      ]
    },
    {
      "cell_type": "code",
      "source": [
        "print(roc_auc_score(y_test, y_pred_xgb))"
      ],
      "metadata": {
        "colab": {
          "base_uri": "https://localhost:8080/"
        },
        "id": "Fdf2bk8qCZJo",
        "outputId": "c82f311d-0514-46ce-f8f9-ff5d73500fde"
      },
      "execution_count": 14,
      "outputs": [
        {
          "output_type": "stream",
          "name": "stdout",
          "text": [
            "0.8229166666666665\n"
          ]
        }
      ]
    },
    {
      "cell_type": "markdown",
      "source": [
        "###AdaBoost"
      ],
      "metadata": {
        "id": "pc_a7O6dXNAB"
      }
    },
    {
      "cell_type": "code",
      "source": [
        "adb_model = AdaBoostClassifier()\n",
        "adb_model.fit(X_train, y_train)\n",
        "y_pred_adb = adb_model.predict(X_test)\n",
        "print(classification_report(y_test, y_pred_adb))"
      ],
      "metadata": {
        "colab": {
          "base_uri": "https://localhost:8080/"
        },
        "id": "HI8C3R2tXQwE",
        "outputId": "e4202a39-19c2-4d68-fd5c-b3918b0cf0ac"
      },
      "execution_count": 15,
      "outputs": [
        {
          "output_type": "stream",
          "name": "stdout",
          "text": [
            "              precision    recall  f1-score   support\n",
            "\n",
            "           0       0.79      0.79      0.79        48\n",
            "           1       0.79      0.79      0.79        48\n",
            "\n",
            "    accuracy                           0.79        96\n",
            "   macro avg       0.79      0.79      0.79        96\n",
            "weighted avg       0.79      0.79      0.79        96\n",
            "\n"
          ]
        }
      ]
    },
    {
      "cell_type": "code",
      "source": [
        "print(confusion_matrix(y_test, y_pred_adb))"
      ],
      "metadata": {
        "colab": {
          "base_uri": "https://localhost:8080/"
        },
        "id": "ij5lEi_YXav-",
        "outputId": "58a47ce0-8eb4-48ab-a2db-b610cada09cc"
      },
      "execution_count": 16,
      "outputs": [
        {
          "output_type": "stream",
          "name": "stdout",
          "text": [
            "[[38 10]\n",
            " [10 38]]\n"
          ]
        }
      ]
    },
    {
      "cell_type": "code",
      "source": [
        "print(roc_auc_score(y_test, y_pred_adb))"
      ],
      "metadata": {
        "colab": {
          "base_uri": "https://localhost:8080/"
        },
        "id": "WGWVSyiYCcmt",
        "outputId": "ad6f3a64-22a0-4549-f3db-0c159600545c"
      },
      "execution_count": 17,
      "outputs": [
        {
          "output_type": "stream",
          "name": "stdout",
          "text": [
            "0.7916666666666666\n"
          ]
        }
      ]
    },
    {
      "cell_type": "markdown",
      "source": [
        "###Gradient Boosting"
      ],
      "metadata": {
        "id": "OTNvfUZM8EL5"
      }
    },
    {
      "cell_type": "code",
      "source": [
        "gb_model = GradientBoostingClassifier()\n",
        "gb_model.fit(X_train, y_train)\n",
        "y_pred_gb = gb_model.predict(X_test)\n",
        "print(classification_report(y_test, y_pred_gb))"
      ],
      "metadata": {
        "colab": {
          "base_uri": "https://localhost:8080/"
        },
        "id": "gpC9Ptx18FkJ",
        "outputId": "6f255b9c-7b41-44b8-c538-a2b33d70075c"
      },
      "execution_count": 18,
      "outputs": [
        {
          "output_type": "stream",
          "name": "stdout",
          "text": [
            "              precision    recall  f1-score   support\n",
            "\n",
            "           0       0.77      0.77      0.77        48\n",
            "           1       0.77      0.77      0.77        48\n",
            "\n",
            "    accuracy                           0.77        96\n",
            "   macro avg       0.77      0.77      0.77        96\n",
            "weighted avg       0.77      0.77      0.77        96\n",
            "\n"
          ]
        }
      ]
    },
    {
      "cell_type": "code",
      "source": [
        "print(confusion_matrix(y_test, y_pred_gb))"
      ],
      "metadata": {
        "colab": {
          "base_uri": "https://localhost:8080/"
        },
        "id": "oBo0IUGV-RMa",
        "outputId": "d079c2ee-c37d-48ea-ef2f-d6122ac48629"
      },
      "execution_count": 19,
      "outputs": [
        {
          "output_type": "stream",
          "name": "stdout",
          "text": [
            "[[37 11]\n",
            " [11 37]]\n"
          ]
        }
      ]
    },
    {
      "cell_type": "code",
      "source": [
        "print(roc_auc_score(y_test, y_pred_gb))"
      ],
      "metadata": {
        "colab": {
          "base_uri": "https://localhost:8080/"
        },
        "id": "wHcQk19zCgii",
        "outputId": "c3073748-bb6b-4c8e-a961-ef830a23aa9d"
      },
      "execution_count": 20,
      "outputs": [
        {
          "output_type": "stream",
          "name": "stdout",
          "text": [
            "0.7708333333333335\n"
          ]
        }
      ]
    },
    {
      "cell_type": "markdown",
      "source": [
        "###SVM"
      ],
      "metadata": {
        "id": "K81ugTt1UiYb"
      }
    },
    {
      "cell_type": "code",
      "source": [
        "svm_model = Pipeline([('scaler', StandardScaler()), ('svm', SVC())])\n",
        "svm_model.fit(X_train, y_train)\n",
        "y_pred_svm = svm_model.predict(X_test)\n",
        "print(classification_report(y_test, y_pred_svm))"
      ],
      "metadata": {
        "colab": {
          "base_uri": "https://localhost:8080/"
        },
        "id": "SrN7tLWeUjfC",
        "outputId": "179ec55d-1f76-463f-c391-a5da088677e2"
      },
      "execution_count": 21,
      "outputs": [
        {
          "output_type": "stream",
          "name": "stdout",
          "text": [
            "              precision    recall  f1-score   support\n",
            "\n",
            "           0       0.73      0.75      0.74        48\n",
            "           1       0.74      0.73      0.74        48\n",
            "\n",
            "    accuracy                           0.74        96\n",
            "   macro avg       0.74      0.74      0.74        96\n",
            "weighted avg       0.74      0.74      0.74        96\n",
            "\n"
          ]
        }
      ]
    },
    {
      "cell_type": "code",
      "source": [
        "print(confusion_matrix(y_test, y_pred_svm))"
      ],
      "metadata": {
        "colab": {
          "base_uri": "https://localhost:8080/"
        },
        "id": "eyficOrxWACv",
        "outputId": "febb258d-2807-4685-aa0e-7ee50c334004"
      },
      "execution_count": 22,
      "outputs": [
        {
          "output_type": "stream",
          "name": "stdout",
          "text": [
            "[[36 12]\n",
            " [13 35]]\n"
          ]
        }
      ]
    },
    {
      "cell_type": "code",
      "source": [
        "print(roc_auc_score(y_test, y_pred_svm))"
      ],
      "metadata": {
        "colab": {
          "base_uri": "https://localhost:8080/"
        },
        "id": "9C1Ins_CCsIb",
        "outputId": "8163f539-b257-45a6-da01-e4c0c1b48c20"
      },
      "execution_count": 23,
      "outputs": [
        {
          "output_type": "stream",
          "name": "stdout",
          "text": [
            "0.7395833333333334\n"
          ]
        }
      ]
    },
    {
      "cell_type": "markdown",
      "source": [
        "###kNN"
      ],
      "metadata": {
        "id": "8mHfkHeEU-9F"
      }
    },
    {
      "cell_type": "code",
      "source": [
        "knn_model = Pipeline([('scaler', StandardScaler()), ('knn', KNeighborsClassifier(n_neighbors=3))])\n",
        "knn_model.fit(X_train, y_train)\n",
        "y_pred_knn = knn_model.predict(X_test)\n",
        "print(classification_report(y_test, y_pred_knn))"
      ],
      "metadata": {
        "colab": {
          "base_uri": "https://localhost:8080/"
        },
        "id": "O9oJE4i3U_tA",
        "outputId": "9152ea8c-1ded-4563-e08e-19b233a6f68c"
      },
      "execution_count": 24,
      "outputs": [
        {
          "output_type": "stream",
          "name": "stdout",
          "text": [
            "              precision    recall  f1-score   support\n",
            "\n",
            "           0       0.60      0.71      0.65        48\n",
            "           1       0.64      0.52      0.57        48\n",
            "\n",
            "    accuracy                           0.61        96\n",
            "   macro avg       0.62      0.61      0.61        96\n",
            "weighted avg       0.62      0.61      0.61        96\n",
            "\n"
          ]
        }
      ]
    },
    {
      "cell_type": "code",
      "source": [
        "print(confusion_matrix(y_test, y_pred_knn))"
      ],
      "metadata": {
        "colab": {
          "base_uri": "https://localhost:8080/"
        },
        "id": "lLt-PBLUYfkq",
        "outputId": "f32186f3-deb9-4ac7-c671-549aa75e53ae"
      },
      "execution_count": 25,
      "outputs": [
        {
          "output_type": "stream",
          "name": "stdout",
          "text": [
            "[[34 14]\n",
            " [23 25]]\n"
          ]
        }
      ]
    },
    {
      "cell_type": "code",
      "source": [
        "print(roc_auc_score(y_test, y_pred_knn))"
      ],
      "metadata": {
        "colab": {
          "base_uri": "https://localhost:8080/"
        },
        "id": "rn-1wdoxCugQ",
        "outputId": "c5697941-b8de-4e74-d965-72293e06d384"
      },
      "execution_count": 26,
      "outputs": [
        {
          "output_type": "stream",
          "name": "stdout",
          "text": [
            "0.6145833333333334\n"
          ]
        }
      ]
    },
    {
      "cell_type": "markdown",
      "source": [
        "###🥇 **Ensemble**"
      ],
      "metadata": {
        "id": "tpn2NNqY8X5M"
      }
    },
    {
      "cell_type": "code",
      "source": [
        "ensemble_model = VotingClassifier(estimators=[('lr', lr_model), ('xgb', xgb_model)], voting='soft')\n",
        "ensemble_model.fit(X_train, y_train)\n",
        "y_pred_ensemble = ensemble_model.predict(X_test)\n",
        "print(classification_report(y_test, y_pred_ensemble, digits=4))"
      ],
      "metadata": {
        "colab": {
          "base_uri": "https://localhost:8080/"
        },
        "id": "cETsZR6Y8YwX",
        "outputId": "83ef8905-4e72-4590-aaca-5b95b747bfc6"
      },
      "execution_count": 27,
      "outputs": [
        {
          "output_type": "stream",
          "name": "stdout",
          "text": [
            "              precision    recall  f1-score   support\n",
            "\n",
            "           0     0.8542    0.8542    0.8542        48\n",
            "           1     0.8542    0.8542    0.8542        48\n",
            "\n",
            "    accuracy                         0.8542        96\n",
            "   macro avg     0.8542    0.8542    0.8542        96\n",
            "weighted avg     0.8542    0.8542    0.8542        96\n",
            "\n"
          ]
        }
      ]
    },
    {
      "cell_type": "code",
      "source": [
        "print(confusion_matrix(y_test, y_pred_ensemble))"
      ],
      "metadata": {
        "colab": {
          "base_uri": "https://localhost:8080/"
        },
        "id": "Hwy_AhXH8it4",
        "outputId": "ca2e778c-02b5-48d8-c530-0c4cdf8f8af4"
      },
      "execution_count": 28,
      "outputs": [
        {
          "output_type": "stream",
          "name": "stdout",
          "text": [
            "[[41  7]\n",
            " [ 7 41]]\n"
          ]
        }
      ]
    },
    {
      "cell_type": "code",
      "source": [
        "print(roc_auc_score(y_test, y_pred_ensemble))"
      ],
      "metadata": {
        "colab": {
          "base_uri": "https://localhost:8080/"
        },
        "id": "2llp-bsr8qli",
        "outputId": "b4d51380-f610-41d8-cec4-a18a4df13252"
      },
      "execution_count": 29,
      "outputs": [
        {
          "output_type": "stream",
          "name": "stdout",
          "text": [
            "0.8541666666666666\n"
          ]
        }
      ]
    },
    {
      "cell_type": "markdown",
      "source": [
        "Ignore: Brute force ensemble model search"
      ],
      "metadata": {
        "id": "sY2dKoxxtwe1"
      }
    },
    {
      "cell_type": "code",
      "source": [
        "#models = [('lr', lr_model), ('rf', rf_model), ('xgb', xgb_model), ('adb', adb_model), ('gb', gb_model), ('knn', knn_model)]\n",
        "#for model1 in models:\n",
        "    #for model2 in models:\n",
        "        #if model1 != model2:\n",
        "            #ensemble_model = VotingClassifier(estimators=[model1, model2], voting='soft')\n",
        "            #ensemble_model.fit(X_train, y_train)\n",
        "            #y_pred_ensemble = ensemble_model.predict(X_test)\n",
        "            #print(f\"({model1[0]}, {model2[0]})\")\n",
        "            #print(classification_report(y_test, y_pred_ensemble))"
      ],
      "metadata": {
        "id": "Vsr7WHGinR9Y"
      },
      "execution_count": 406,
      "outputs": []
    }
  ]
}
